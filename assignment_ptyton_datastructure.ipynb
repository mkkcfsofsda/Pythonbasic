{
  "nbformat": 4,
  "nbformat_minor": 0,
  "metadata": {
    "colab": {
      "provenance": [],
      "authorship_tag": "ABX9TyNfKTBeMXw7avJbNYTyqC/j",
      "include_colab_link": true
    },
    "kernelspec": {
      "name": "python3",
      "display_name": "Python 3"
    },
    "language_info": {
      "name": "python"
    }
  },
  "cells": [
    {
      "cell_type": "markdown",
      "metadata": {
        "id": "view-in-github",
        "colab_type": "text"
      },
      "source": [
        "<a href=\"https://colab.research.google.com/github/mkkcfsofsda/Pythonbasic/blob/main/assignment_ptyton_datastructure.ipynb\" target=\"_parent\"><img src=\"https://colab.research.google.com/assets/colab-badge.svg\" alt=\"Open In Colab\"/></a>"
      ]
    },
    {
      "cell_type": "code",
      "execution_count": null,
      "metadata": {
        "id": "MZlgFbtpUpXY"
      },
      "outputs": [],
      "source": []
    },
    {
      "cell_type": "markdown",
      "source": [
        "1. What are data structures, and why are they important?\n",
        "\n",
        "Data structures are ways of organizing and storing data in a computer so that it can be accessed and modified efficiently. They are importanat because they enable efficient manipulation of data, which is crucial for building performant and scalable software.\n"
      ],
      "metadata": {
        "id": "Yqj39J9RFrh3"
      }
    },
    {
      "cell_type": "markdown",
      "source": [
        "2.  Explain the difference between mutable and immutable data types with examples.\n",
        "\n",
        "Value of mutable data can be modified after assigment, while immutable data once assigned its value can not be change."
      ],
      "metadata": {
        "id": "c_-ywKAP2teT"
      }
    },
    {
      "cell_type": "markdown",
      "source": [
        "3. What are the main differences between lists and tuples in Python?\n",
        "\n",
        "List and tuple bath are collecton of data but list is mutable and tuple is immutablae."
      ],
      "metadata": {
        "id": "EzDTXibS3b4s"
      }
    },
    {
      "cell_type": "markdown",
      "source": [
        "4.  Describe how dictionaries store data?\n",
        "\n",
        "Dictionary stores data in form of key : value pairs, keys are immutable and values are mutable."
      ],
      "metadata": {
        "id": "GuPH5XyU3zZr"
      }
    },
    {
      "cell_type": "markdown",
      "source": [
        "5. Why might you use a set instead of a list in Python?\n",
        "\n",
        "Set is an unordered collection and has unique values, if no duplicate value is allowed set is used instead of list."
      ],
      "metadata": {
        "id": "0hOY7jiH4L9X"
      }
    },
    {
      "cell_type": "markdown",
      "source": [
        "6. What is a string in Python, and how is it different from a list?\n",
        "\n",
        "String data type store characters and behave like an array of characters, whareas list can store different types of data. Also string is immmutable and list is mutable."
      ],
      "metadata": {
        "id": "SkF3j94q7Osd"
      }
    },
    {
      "cell_type": "markdown",
      "source": [
        "7.  How do tuples ensure data integrity in Python?\n",
        "\n",
        "\n",
        "Tuples ensure data integrity in Python because they are immutable. This means that once a tuple is created, its contents cannot be changed. This immutability guarantees that the data stored in a tuple remains constant throughout the program's execution."
      ],
      "metadata": {
        "id": "KTHDDBxg8KAu"
      }
    },
    {
      "cell_type": "markdown",
      "source": [
        "8. What is a hash table, and how does it relate to dictionaries in Python?\n",
        "\n",
        "A hash table is data structure in which data are storedd as key value pair combines on a hash fuction, value can easily be retrieve using hash code or key for the value. Dictionary of Python also stores data in key value pair where key are unique.\n"
      ],
      "metadata": {
        "id": "Tf6OSDvg8nKr"
      }
    },
    {
      "cell_type": "markdown",
      "source": [
        "9. Can lists contain different data types in Python?\n",
        "\n",
        "Yes list in python can have different type data.\n",
        "\n"
      ],
      "metadata": {
        "id": "NrXCFX3XGKF5"
      }
    },
    {
      "cell_type": "markdown",
      "source": [
        "10. Explain why strings are immutable in Python.\n",
        "\n",
        "In python string is immutable becaue once created its value can not be modified. That means character on a paricular index of string can not be changed by assignment operator like string[2] = 'g'. when we assign new value to a string variable it simply delete the old one and create a new variable with same name and new value.\n"
      ],
      "metadata": {
        "id": "MKBzu2tiGaa3"
      }
    },
    {
      "cell_type": "markdown",
      "source": [
        "11. What advantages do dictionaries offer over lists for certain tasks?\n",
        "\n",
        "Dictinary offer named unique keys for each value so data can be stored like a hash table.\n"
      ],
      "metadata": {
        "id": "_7N67pJhHfdH"
      }
    },
    {
      "cell_type": "markdown",
      "source": [
        "12. How do sets handle duplicate values in Python?\n",
        "\n",
        "In python, when a duplcate value is listed in set only the one value is kept and rest are discarded.\n"
      ],
      "metadata": {
        "id": "IbOvP-AwIMhP"
      }
    },
    {
      "cell_type": "markdown",
      "source": [
        "13. Describe a scenario where using a tuple would be preferable over a list.\n",
        "\n",
        "Since tuple is immutable it is preferable when we need to store values like employee code or product code which must not be changed.\n"
      ],
      "metadata": {
        "id": "vru1yA2hIuEb"
      }
    },
    {
      "cell_type": "markdown",
      "source": [
        "14. How does the “in” keyword work differently for lists and dictionaries?\n",
        "\n",
        "'In' keyword in list looks for the presence of element in the list whereas in dictionary it looks for key, and has time comlexity of O(1) which is O(n) in case of list.\n",
        "\n"
      ],
      "metadata": {
        "id": "nrbWAPjjJWbQ"
      }
    },
    {
      "cell_type": "markdown",
      "source": [
        " 15. Can you modify the elements of a tuple? Explain why or why not.\n",
        "\n",
        " No, an element of tuple cannot be modified as it is an immutable structre.\n",
        "\n"
      ],
      "metadata": {
        "id": "OfcYGvEFL7ja"
      }
    },
    {
      "cell_type": "markdown",
      "source": [
        "16. What is a nested dictionary, and give an example of its use case.\n",
        "\n",
        "Nested dictionary is a data structure in which the value of each key is a dictionary.\n",
        "{\"emp1\":{\"name\":\"some name\", \"post\":\"some post\", \"pay\":\"some pay value\"}}\n",
        "\n"
      ],
      "metadata": {
        "id": "t77uiYdcMMhX"
      }
    },
    {
      "cell_type": "markdown",
      "source": [
        "17. Describe the time complexity of accessing elements in a dictionary.\n",
        "\n",
        "Since in dictinary search is performed directly by key name any key search need only one operation, so time complexity is O(1).\n"
      ],
      "metadata": {
        "id": "v8cd4BDONOWh"
      }
    },
    {
      "cell_type": "markdown",
      "source": [
        "18. In what situations are lists preferred over dictionaries?\n",
        "\n",
        "If data needs to be modified during program execution, list is prefered.\n",
        "\n"
      ],
      "metadata": {
        "id": "3n9IqAQoN1gN"
      }
    },
    {
      "cell_type": "markdown",
      "source": [
        "19. Why are dictionaries considered unordered, and how does that affect data retrieval?\n",
        "Since in dictionary data are stored as key:value pair it considered as unordered. When searched the is retrieved directly without going to other element.\n"
      ],
      "metadata": {
        "id": "-hPkCDhPOKrU"
      }
    },
    {
      "cell_type": "markdown",
      "source": [
        "20. Explain the difference between a list and a dictionary in terms of data retrieval.\n",
        "\n",
        "Data retrival in dictionary is fast as compared to list as a key is retrieved directly, where in list it has to move from one lelement to other till the the end."
      ],
      "metadata": {
        "id": "ZvxFW3xXOsr1"
      }
    },
    {
      "cell_type": "markdown",
      "source": [
        "# **Prctical Questions**\n"
      ],
      "metadata": {
        "id": "4ytnpz4413-9"
      }
    },
    {
      "cell_type": "markdown",
      "source": [
        "#1. Write a code to create a string with your name and print it."
      ],
      "metadata": {
        "id": "OAVllcZO3wRn"
      }
    },
    {
      "cell_type": "code",
      "source": [
        "name = \"Manoj Kumar Kunwar\"\n",
        "print(\"Hi, \"+name)"
      ],
      "metadata": {
        "colab": {
          "base_uri": "https://localhost:8080/"
        },
        "id": "SOStylv52OdJ",
        "outputId": "00e61cca-e9ef-4219-9d9f-e95e4298af37"
      },
      "execution_count": null,
      "outputs": [
        {
          "output_type": "stream",
          "name": "stdout",
          "text": [
            "Hi, Manoj Kumar Kunwar\n"
          ]
        }
      ]
    },
    {
      "cell_type": "markdown",
      "source": [
        "#2. Write a code to find the length of the string \"Hello World\"."
      ],
      "metadata": {
        "id": "DjCbHdcK4EQw"
      }
    },
    {
      "cell_type": "code",
      "source": [
        "str = \"Hello World\"\n",
        "print(len(str))"
      ],
      "metadata": {
        "colab": {
          "base_uri": "https://localhost:8080/"
        },
        "id": "3ax-q3Bh3hwc",
        "outputId": "d7424795-b054-44ed-9a9c-f1333c595fe5"
      },
      "execution_count": null,
      "outputs": [
        {
          "output_type": "stream",
          "name": "stdout",
          "text": [
            "11\n"
          ]
        }
      ]
    },
    {
      "cell_type": "markdown",
      "source": [
        "#3. Write a code to slice the first 3 characters from the string \"Python Programming\"."
      ],
      "metadata": {
        "id": "-lXccaFg4Mew"
      }
    },
    {
      "cell_type": "code",
      "source": [
        "str = \"Python Programming\"\n",
        "print(str[0:3])"
      ],
      "metadata": {
        "colab": {
          "base_uri": "https://localhost:8080/"
        },
        "id": "kM2fLyHC3r66",
        "outputId": "da003bec-fbaa-4529-b0e1-6451ff1e7810"
      },
      "execution_count": null,
      "outputs": [
        {
          "output_type": "stream",
          "name": "stdout",
          "text": [
            "Pyt\n"
          ]
        }
      ]
    },
    {
      "cell_type": "markdown",
      "source": [
        "#4. Write a code to convert the string \"hello\" to uppercase."
      ],
      "metadata": {
        "id": "M1omE_fo4ggB"
      }
    },
    {
      "cell_type": "code",
      "source": [
        "str = \"hello\"\n",
        "print(str.upper())"
      ],
      "metadata": {
        "colab": {
          "base_uri": "https://localhost:8080/"
        },
        "id": "PUHRHHZ04n60",
        "outputId": "51dd3512-18ed-48aa-c2f0-e1494608207c"
      },
      "execution_count": null,
      "outputs": [
        {
          "output_type": "stream",
          "name": "stdout",
          "text": [
            "HELLO\n"
          ]
        }
      ]
    },
    {
      "cell_type": "markdown",
      "source": [
        "#5. Write a code to replace the word \"apple\" with \"orange\" in the string \"I like apple\"."
      ],
      "metadata": {
        "id": "DPMjKF5l5ImB"
      }
    },
    {
      "cell_type": "code",
      "source": [
        "str = \"I like applle\"\n",
        "for i in str.split():\n",
        "  if i == \"applle\":\n",
        "       str = str.replace(i,\"orange\")\n",
        "print(str)"
      ],
      "metadata": {
        "colab": {
          "base_uri": "https://localhost:8080/"
        },
        "id": "q_BRN4Pf5Pw7",
        "outputId": "62395cdc-b9e1-4117-f6c8-60c0ec840d44"
      },
      "execution_count": null,
      "outputs": [
        {
          "output_type": "stream",
          "name": "stdout",
          "text": [
            "I like orange\n"
          ]
        }
      ]
    },
    {
      "cell_type": "markdown",
      "source": [
        "#6. Write a code to create a list with numbers 1 to 5 and print it."
      ],
      "metadata": {
        "id": "5IHw1lWu7nwd"
      }
    },
    {
      "cell_type": "code",
      "source": [
        "lst = [1, 2, 3, 4, 5]\n",
        "print(lst)"
      ],
      "metadata": {
        "colab": {
          "base_uri": "https://localhost:8080/"
        },
        "id": "LsawSUoc7zCQ",
        "outputId": "30191dd1-86d5-417f-9af6-260556b57134"
      },
      "execution_count": null,
      "outputs": [
        {
          "output_type": "stream",
          "name": "stdout",
          "text": [
            "[1, 2, 3, 4, 5]\n"
          ]
        }
      ]
    },
    {
      "cell_type": "markdown",
      "source": [
        "#7. Write a code to append the number 10 to the list [1, 2, 3, 4]."
      ],
      "metadata": {
        "id": "ufjCyCW28MKN"
      }
    },
    {
      "cell_type": "code",
      "source": [
        "lst = [1, 2, 3, 4]\n",
        "lst.append(10)\n",
        "print(lst)"
      ],
      "metadata": {
        "colab": {
          "base_uri": "https://localhost:8080/"
        },
        "id": "Nb8ijiqD8V4f",
        "outputId": "55bbb3f3-437a-45ce-b456-85ad2a73d78d"
      },
      "execution_count": null,
      "outputs": [
        {
          "output_type": "stream",
          "name": "stdout",
          "text": [
            "[1, 2, 3, 4, 10]\n"
          ]
        }
      ]
    },
    {
      "cell_type": "markdown",
      "source": [
        "#8.  Write a code to remove the number 3 from the list [1, 2, 3, 4, 5]."
      ],
      "metadata": {
        "id": "Och4lQz38Z8t"
      }
    },
    {
      "cell_type": "code",
      "source": [
        "lst = [1, 2, 3, 4, 5]\n",
        "lst.remove(3)\n",
        "print(lst)"
      ],
      "metadata": {
        "colab": {
          "base_uri": "https://localhost:8080/"
        },
        "id": "wp4ecQ5T8m7v",
        "outputId": "b1818cd1-dbdf-4c2b-b07e-d92d8ac6bb4d"
      },
      "execution_count": null,
      "outputs": [
        {
          "output_type": "stream",
          "name": "stdout",
          "text": [
            "[1, 2, 4, 5]\n"
          ]
        }
      ]
    },
    {
      "cell_type": "markdown",
      "source": [
        "#9.  Write a code to access the second element in the list ['a', 'b', 'c', 'd']."
      ],
      "metadata": {
        "id": "R9mCdxNy82R6"
      }
    },
    {
      "cell_type": "code",
      "source": [
        "lst = ['a', 'b', 'c', 'd']\n",
        "print(lst[1])"
      ],
      "metadata": {
        "colab": {
          "base_uri": "https://localhost:8080/"
        },
        "id": "G1nHv2Pk8-zI",
        "outputId": "d0851e2a-540b-47e0-b6d3-ecc3aeb86bbc"
      },
      "execution_count": null,
      "outputs": [
        {
          "output_type": "stream",
          "name": "stdout",
          "text": [
            "b\n"
          ]
        }
      ]
    },
    {
      "cell_type": "markdown",
      "source": [
        "#10. Write a code to reverse the list [10, 20, 30, 40, 50]."
      ],
      "metadata": {
        "id": "3Y9-wqGe9Eor"
      }
    },
    {
      "cell_type": "code",
      "source": [
        "lst=[10, 20, 30, 40, 50]\n",
        "lst = lst[::-1]\n",
        "print(lst)"
      ],
      "metadata": {
        "colab": {
          "base_uri": "https://localhost:8080/"
        },
        "id": "uACP1C_29Mrk",
        "outputId": "2e0f7857-b1c7-4b14-b677-439129744345"
      },
      "execution_count": null,
      "outputs": [
        {
          "output_type": "stream",
          "name": "stdout",
          "text": [
            "[50, 40, 30, 20, 10]\n"
          ]
        }
      ]
    },
    {
      "cell_type": "markdown",
      "source": [
        "#11. . Write a code to create a tuple with the elements 100, 200, 300 and print it."
      ],
      "metadata": {
        "id": "eWwMmpIn9lBc"
      }
    },
    {
      "cell_type": "code",
      "source": [
        "tple = (100, 200, 300)\n",
        "print(tple)"
      ],
      "metadata": {
        "colab": {
          "base_uri": "https://localhost:8080/"
        },
        "id": "FienZd479qfF",
        "outputId": "36d4097f-0d67-4d2d-cc7c-a8bea98f324f"
      },
      "execution_count": null,
      "outputs": [
        {
          "output_type": "stream",
          "name": "stdout",
          "text": [
            "(100, 200, 300)\n"
          ]
        }
      ]
    },
    {
      "cell_type": "markdown",
      "source": [
        "#12.  Write a code to access the second-to-last element of the tuple ('red', 'green', 'blue', 'yellow')."
      ],
      "metadata": {
        "id": "OdC09J9T-JtQ"
      }
    },
    {
      "cell_type": "code",
      "source": [
        "tple = ('red', 'green', 'blue', 'yellow')\n",
        "print(tple[-2])"
      ],
      "metadata": {
        "colab": {
          "base_uri": "https://localhost:8080/"
        },
        "id": "lwNNt7SD-PB9",
        "outputId": "ceb0b3d7-962b-4642-8d3d-9caf631b347e"
      },
      "execution_count": null,
      "outputs": [
        {
          "output_type": "stream",
          "name": "stdout",
          "text": [
            "blue\n"
          ]
        }
      ]
    },
    {
      "cell_type": "markdown",
      "source": [
        "#13.  Write a code to find the minimum number in the tuple (10, 20, 5, 15)."
      ],
      "metadata": {
        "id": "oo-4i45--VrA"
      }
    },
    {
      "cell_type": "code",
      "source": [
        "tple = (10, 20, 5, 15)\n",
        "print(min(tple))"
      ],
      "metadata": {
        "colab": {
          "base_uri": "https://localhost:8080/"
        },
        "id": "_k8PsFmh-ivf",
        "outputId": "df7c100c-5c29-44dd-8765-bdf3caa24819"
      },
      "execution_count": null,
      "outputs": [
        {
          "output_type": "stream",
          "name": "stdout",
          "text": [
            "5\n"
          ]
        }
      ]
    },
    {
      "cell_type": "markdown",
      "source": [
        "#14.  Write a code to find the index of the element \"cat\" in the tuple ('dog', 'cat', 'rabbit')."
      ],
      "metadata": {
        "id": "noXa9lGt-wZC"
      }
    },
    {
      "cell_type": "code",
      "source": [
        "tple = ('dog', 'cat', 'rabbit')\n",
        "print(tple.index('cat'))\n"
      ],
      "metadata": {
        "colab": {
          "base_uri": "https://localhost:8080/"
        },
        "id": "KhVeE9t4-2VA",
        "outputId": "febc4d82-7c45-4236-b096-f2accb61294f"
      },
      "execution_count": null,
      "outputs": [
        {
          "output_type": "stream",
          "name": "stdout",
          "text": [
            "1\n"
          ]
        }
      ]
    },
    {
      "cell_type": "markdown",
      "source": [
        "#15. . Write a code to create a tuple containing three different fruits and check if \"kiwi\" is in it."
      ],
      "metadata": {
        "id": "MmoNkK2c-_7-"
      }
    },
    {
      "cell_type": "code",
      "source": [
        "tple = (\"apple\", \"banana\", \"cherry\")\n",
        "print(\"kiwi\" in tple)\n"
      ],
      "metadata": {
        "colab": {
          "base_uri": "https://localhost:8080/"
        },
        "id": "01u8JBs1_IFX",
        "outputId": "2b265009-a09e-48ff-91a6-48aa5773afdb"
      },
      "execution_count": null,
      "outputs": [
        {
          "output_type": "stream",
          "name": "stdout",
          "text": [
            "False\n"
          ]
        }
      ]
    },
    {
      "cell_type": "markdown",
      "source": [
        "#16. . Write a code to create a set with the elements 'a', 'b', 'c' and print it."
      ],
      "metadata": {
        "id": "y24IhF2X_aGL"
      }
    },
    {
      "cell_type": "code",
      "source": [
        "st ={'a', 'b', 'c'}\n",
        "print(st)"
      ],
      "metadata": {
        "colab": {
          "base_uri": "https://localhost:8080/"
        },
        "id": "qnRoh2yS_fIC",
        "outputId": "4f7ab4a6-601c-45c6-ee4d-9960c1940dab"
      },
      "execution_count": null,
      "outputs": [
        {
          "output_type": "stream",
          "name": "stdout",
          "text": [
            "{'b', 'c', 'a'}\n"
          ]
        }
      ]
    },
    {
      "cell_type": "markdown",
      "source": [
        "#17. Write a code to clear all elements from the set {1, 2, 3, 4, 5}."
      ],
      "metadata": {
        "id": "rsDBBLUXWMdf"
      }
    },
    {
      "cell_type": "code",
      "source": [
        "st = {1, 2, 3, 4, 5}\n",
        "st.clear()\n",
        "print(st)"
      ],
      "metadata": {
        "colab": {
          "base_uri": "https://localhost:8080/"
        },
        "id": "56v5z_aiWUsL",
        "outputId": "e60fd837-e0cc-4992-fd50-9ae952cf1ef9"
      },
      "execution_count": null,
      "outputs": [
        {
          "output_type": "stream",
          "name": "stdout",
          "text": [
            "set()\n"
          ]
        }
      ]
    },
    {
      "cell_type": "markdown",
      "source": [
        "#18. Write a code to remove the element 4 from the set {1, 2, 3, 4}."
      ],
      "metadata": {
        "id": "WHJ4VtceWb-Z"
      }
    },
    {
      "cell_type": "code",
      "source": [
        "st = {1, 2, 3, 4}\n",
        "st.remove(4)\n",
        "print(st)"
      ],
      "metadata": {
        "id": "haxBs0bCWrgI",
        "colab": {
          "base_uri": "https://localhost:8080/"
        },
        "outputId": "e9be43f1-cacf-4127-876e-43d7a8ffeaf2"
      },
      "execution_count": 8,
      "outputs": [
        {
          "output_type": "stream",
          "name": "stdout",
          "text": [
            "{1, 2, 3}\n"
          ]
        }
      ]
    },
    {
      "cell_type": "markdown",
      "source": [
        "#19.  Write a code to find the union of two sets {1, 2, 3} and {3, 4, 5}"
      ],
      "metadata": {
        "id": "SLRqIvSAW3HB"
      }
    },
    {
      "cell_type": "code",
      "source": [
        "st1 = {1, 2, 3}\n",
        "st2 = {3, 4, 5}\n",
        "st3 = st1.union(st2)\n",
        "print(st3)"
      ],
      "metadata": {
        "colab": {
          "base_uri": "https://localhost:8080/"
        },
        "id": "sCgb2SpqW9NJ",
        "outputId": "0a31db43-e80c-47d9-9ac0-b544959e0374"
      },
      "execution_count": null,
      "outputs": [
        {
          "output_type": "stream",
          "name": "stdout",
          "text": [
            "{1, 2, 3, 4, 5}\n"
          ]
        }
      ]
    },
    {
      "cell_type": "markdown",
      "source": [
        "#20. Write a code to find the intersection of two sets {1, 2, 3} and {2, 3, 4}"
      ],
      "metadata": {
        "id": "hRWBN2yaXWXS"
      }
    },
    {
      "cell_type": "code",
      "source": [
        "st1 = {1, 2, 3}\n",
        "st2 = {3, 4, 5}\n",
        "st3 = st1.intersection(st2)\n",
        "print(st3)\n",
        "st1.intersection_update(st2)\n",
        "print(st1)"
      ],
      "metadata": {
        "colab": {
          "base_uri": "https://localhost:8080/"
        },
        "id": "iLoW6gAKXipk",
        "outputId": "797a5d39-a1c8-4336-d436-aa3261987cc4"
      },
      "execution_count": null,
      "outputs": [
        {
          "output_type": "stream",
          "name": "stdout",
          "text": [
            "{3}\n",
            "{3}\n"
          ]
        }
      ]
    },
    {
      "cell_type": "markdown",
      "source": [
        "#21. Write a code to create a dictionary with the keys \"name\", \"age\", and \"city\", and print it"
      ],
      "metadata": {
        "id": "DYZHw-T_X9no"
      }
    },
    {
      "cell_type": "code",
      "source": [
        "dict1 = {\"name\":\"Manoj\", \"age\":22, \"city\":\"Delhi\"}\n",
        "print(dict1)"
      ],
      "metadata": {
        "id": "0Zuc6oaAYQxK",
        "colab": {
          "base_uri": "https://localhost:8080/"
        },
        "outputId": "406fa41f-3a1b-4232-ca47-efa44ff34e06"
      },
      "execution_count": 9,
      "outputs": [
        {
          "output_type": "stream",
          "name": "stdout",
          "text": [
            "{'name': 'Manoj', 'age': 22, 'city': 'Delhi'}\n"
          ]
        }
      ]
    },
    {
      "cell_type": "markdown",
      "source": [
        "#22. Write a code to add a new key-value pair \"country\": \"USA\" to the dictionary {'name': 'John', 'age': 25}"
      ],
      "metadata": {
        "id": "OrH0M0ArYfAI"
      }
    },
    {
      "cell_type": "code",
      "source": [
        "dict2 = {'name': 'John', 'age': 25}\n",
        "dict2[\"country\"] = \"USA\"\n",
        "print(dict2)"
      ],
      "metadata": {
        "id": "synReVljYs7Y",
        "colab": {
          "base_uri": "https://localhost:8080/"
        },
        "outputId": "0501e76e-150b-4396-88d3-97132a210b1d"
      },
      "execution_count": 10,
      "outputs": [
        {
          "output_type": "stream",
          "name": "stdout",
          "text": [
            "{'name': 'John', 'age': 25, 'country': 'USA'}\n"
          ]
        }
      ]
    },
    {
      "cell_type": "markdown",
      "source": [
        "#23. Write a code to access the value associated with the key \"name\" in the dictionary {'name': 'Alice', 'age': 30}"
      ],
      "metadata": {
        "id": "lTt7joX5ZLLg"
      }
    },
    {
      "cell_type": "code",
      "source": [
        "dict_student = {'name': 'Alice', 'age': 30}\n",
        "print(dict_student[\"name\"])\n"
      ],
      "metadata": {
        "id": "gLbwzti6ZuyW",
        "colab": {
          "base_uri": "https://localhost:8080/"
        },
        "outputId": "e05423ac-514f-4617-a041-0db3b2d7be68"
      },
      "execution_count": 11,
      "outputs": [
        {
          "output_type": "stream",
          "name": "stdout",
          "text": [
            "Alice\n"
          ]
        }
      ]
    },
    {
      "cell_type": "markdown",
      "source": [
        "#24. Write a code to remove the key \"age\" from the dictionary {'name': 'Bob', 'age': 22, 'city': 'New York'}"
      ],
      "metadata": {
        "id": "z5RNMehTaNbB"
      }
    },
    {
      "cell_type": "code",
      "source": [
        "boy = {'name':'Bob', 'age': 22, 'city' : 'New York'}\n",
        "boy.pop(\"age\")\n",
        "print(boy)"
      ],
      "metadata": {
        "id": "wym6BqQWaolX",
        "colab": {
          "base_uri": "https://localhost:8080/"
        },
        "outputId": "5ba6ad8a-35bd-473c-9490-f5f0ba4c3fa7"
      },
      "execution_count": 12,
      "outputs": [
        {
          "output_type": "stream",
          "name": "stdout",
          "text": [
            "{'name': 'Bob', 'city': 'New York'}\n"
          ]
        }
      ]
    },
    {
      "cell_type": "markdown",
      "source": [
        "#25. Write a code to check if the key \"city\" exists in the dictionary {'name': 'Alice', 'city': 'Paris'}"
      ],
      "metadata": {
        "id": "cPq6KRdAbQDv"
      }
    },
    {
      "cell_type": "code",
      "source": [
        "details = {'name': 'Alice', 'city': 'Paris'}\n",
        "print(\"city\" in details)"
      ],
      "metadata": {
        "id": "va-Eoevzbg3l",
        "colab": {
          "base_uri": "https://localhost:8080/"
        },
        "outputId": "98aff86c-8530-41c9-a959-247fe572403d"
      },
      "execution_count": 13,
      "outputs": [
        {
          "output_type": "stream",
          "name": "stdout",
          "text": [
            "True\n"
          ]
        }
      ]
    },
    {
      "cell_type": "markdown",
      "source": [
        "#26.  Write a code to create a list, a tuple, and a dictionary, and print them all"
      ],
      "metadata": {
        "id": "fq3ccKlMbuyx"
      }
    },
    {
      "cell_type": "code",
      "source": [
        "ls = [1, 'Manngo', 'book']\n",
        "dt = {'name':'Akshita','age': 22, 'city': 'Delhi'}\n",
        "tp = (1, 2, 3, 4)\n",
        "print(ls)\n",
        "print(dt)\n",
        "print(tp)"
      ],
      "metadata": {
        "id": "nDYOQZYIb2aw",
        "colab": {
          "base_uri": "https://localhost:8080/"
        },
        "outputId": "8fc9072f-7204-45b0-baae-aea39e5f713c"
      },
      "execution_count": 14,
      "outputs": [
        {
          "output_type": "stream",
          "name": "stdout",
          "text": [
            "[1, 'Manngo', 'book']\n",
            "{'name': 'Akshita', 'age': 22, 'city': 'Delhi'}\n",
            "(1, 2, 3, 4)\n"
          ]
        }
      ]
    },
    {
      "cell_type": "markdown",
      "source": [
        "#27. Write a code to create a list of 5 random numbers between 1 and 100, sort it in ascending order, and print the  result.(replaced)\n"
      ],
      "metadata": {
        "id": "eqnVP_9Bc5yo"
      }
    },
    {
      "cell_type": "code",
      "source": [
        "import random\n",
        "lst = [random.randint(1,100) for i in range(5)]\n",
        "lst.sort()\n",
        "print(lst)\n"
      ],
      "metadata": {
        "id": "OCFddggqdR_G",
        "colab": {
          "base_uri": "https://localhost:8080/"
        },
        "outputId": "3f5b05de-bc42-4318-ca40-ba2272ee834e"
      },
      "execution_count": 15,
      "outputs": [
        {
          "output_type": "stream",
          "name": "stdout",
          "text": [
            "[60, 79, 92, 93, 98]\n"
          ]
        }
      ]
    },
    {
      "cell_type": "markdown",
      "source": [
        "#28. Write a code to create a list with strings and print the element at the third index.\n"
      ],
      "metadata": {
        "id": "j0Cu_KhIeG03"
      }
    },
    {
      "cell_type": "code",
      "source": [
        "lst = ['mango', 'banana', 'apple', 'orange']\n",
        "print(lst[2])"
      ],
      "metadata": {
        "id": "_ju9T9BZeTys",
        "colab": {
          "base_uri": "https://localhost:8080/"
        },
        "outputId": "65486faa-f35e-4b20-843c-fecf2ad5b6a2"
      },
      "execution_count": 16,
      "outputs": [
        {
          "output_type": "stream",
          "name": "stdout",
          "text": [
            "apple\n"
          ]
        }
      ]
    },
    {
      "cell_type": "markdown",
      "source": [
        "# 29. Write a code to combine two dictionaries into one and print the result.\n"
      ],
      "metadata": {
        "id": "NGX-eEpWehQt"
      }
    },
    {
      "cell_type": "code",
      "source": [
        "d1 = {'name': 'Alice', 'age': 30}\n",
        "d2 = {'city': 'Paris', 'country': 'France'}\n",
        "d1.update(d2)\n",
        "print(d1)"
      ],
      "metadata": {
        "id": "Cy0CUXdOenng",
        "colab": {
          "base_uri": "https://localhost:8080/"
        },
        "outputId": "f6388edc-100f-4c56-87e2-1f12cba044e8"
      },
      "execution_count": 17,
      "outputs": [
        {
          "output_type": "stream",
          "name": "stdout",
          "text": [
            "{'name': 'Alice', 'age': 30, 'city': 'Paris', 'country': 'France'}\n"
          ]
        }
      ]
    },
    {
      "cell_type": "markdown",
      "source": [
        "# 30. Write a code to convert a list of strings into a set."
      ],
      "metadata": {
        "id": "ZxbVHaZde30I"
      }
    },
    {
      "cell_type": "code",
      "source": [
        "lis = [1, 2, 3, 4, 5, 4, 6]\n",
        "st = set(lis)\n",
        "print(st)"
      ],
      "metadata": {
        "colab": {
          "base_uri": "https://localhost:8080/"
        },
        "id": "yft8Nuwee-vd",
        "outputId": "541a4143-b069-4d95-c541-312081a25913"
      },
      "execution_count": 18,
      "outputs": [
        {
          "output_type": "stream",
          "name": "stdout",
          "text": [
            "{1, 2, 3, 4, 5, 6}\n"
          ]
        }
      ]
    }
  ]
}